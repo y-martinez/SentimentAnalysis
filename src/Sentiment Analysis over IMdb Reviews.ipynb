{
 "cells": [
  {
   "cell_type": "markdown",
   "metadata": {},
   "source": [
    "## Analisis de Sentimientos\n",
    "### Josseline Perdomo e Ybrahin Martinez\n",
    "\n",
    "- Introdución\n",
    "- Análisis Exploratorio\n",
    "- Preprocesamiento\n",
    "- Algoritmo Utilizado\n",
    "- Aplicación\n",
    "- Conclusión"
   ]
  },
  {
   "cell_type": "markdown",
   "metadata": {},
   "source": [
    "### Introdicción\n",
    "\n",
    "- La cantidad de contenido generado por los usuarios en Internet ha aumentado de manera exponencial en la última década.\n",
    "- Ahora toda nuestra toma de decisiones tiende a ser social.\n",
    "- Es un tema difícil en el aprendizaje automático.\n",
    "- Esto puede ser útil a compañías de proveedores de servicios."
   ]
  },
  {
   "cell_type": "code",
   "execution_count": 1,
   "metadata": {
    "collapsed": false
   },
   "outputs": [],
   "source": [
    "# -*- coding: utf-8 -*-\n",
    "# Versión del proyecto para análisis de modelos\n",
    "%matplotlib inline\n",
    "import matplotlib.pyplot as plt\n",
    "import seaborn as sns\n",
    "\n",
    "import pandas as pd\n",
    "import numpy as np\n",
    "import re, string\n",
    "\n",
    "from nltk.corpus import stopwords\n",
    "from nltk.tokenize import TweetTokenizer\n",
    "\n",
    "from sklearn.feature_extraction.text import CountVectorizer\n",
    "from sklearn.feature_extraction.text import TfidfVectorizer\n",
    "\n",
    "from sklearn.ensemble import RandomForestClassifier\n",
    "\n",
    "from sklearn import cross_validation\n",
    "from sklearn import metrics\n",
    "\n",
    "# Data de entrenamiento\n",
    "namefile = \"../dat/labeledTrainData.tsv\""
   ]
  },
  {
   "cell_type": "code",
   "execution_count": 2,
   "metadata": {
    "collapsed": false,
    "scrolled": true
   },
   "outputs": [],
   "source": [
    "def preprocessing(raw_review, lang = \"english\"):\n",
    "    tknzr = TweetTokenizer(reduce_len = True)\n",
    "    \n",
    "    raw_review = re.sub (\"<br\\s*\\/>\", \" \", raw_review)\n",
    "    raw_review = re.sub (\"\\\\\\\\\",\"\", raw_review)\n",
    "    raw_review = re.sub (\"\\\"\",\"\", raw_review)\n",
    "    \n",
    "    if lang == \"english\":\n",
    "        raw_review = re.sub(\"\\'\",\"\", raw_review)\n",
    "        \n",
    "    words = tknzr.tokenize(raw_review)\n",
    "    punctuation = list(string.punctuation)\n",
    "    \n",
    "    stops = set(stopwords.words(lang) + punctuation)\n",
    "    words = [word for word in words if not word.lower() in stops]\n",
    "    \n",
    "    return (\" \".join(words))\n",
    "\n",
    "def get_model(y, bag_of_words, vectorizer, n = 100, **kwargs):\n",
    "    vec_model = vectorizer(**kwargs)\n",
    "    vec = vec_model.fit_transform(bag_of_words).toarray()\n",
    "    forest = RandomForestClassifier(n_estimators = n).fit(vec, y)\n",
    "    \n",
    "    return {\"vector\": vec_model, \"model\": forest}\n",
    "\n",
    "def plot_confusion_matrix(cm, title=\"Confusion matrix\"):\n",
    "    plt.title(title)\n",
    "    fig = sns.heatmap(cm, annot = True,  fmt = \"d\", linewidths = .5, cmap = \"YlGnBu\")\n",
    "    fig.set(xlabel = \"Prediction\", ylabel = \"Real\")"
   ]
  },
  {
   "cell_type": "code",
   "execution_count": 3,
   "metadata": {
    "collapsed": false
   },
   "outputs": [
    {
     "data": {
      "text/html": [
       "<div>\n",
       "<table border=\"1\" class=\"dataframe\">\n",
       "  <thead>\n",
       "    <tr style=\"text-align: right;\">\n",
       "      <th></th>\n",
       "      <th>id</th>\n",
       "      <th>sentiment</th>\n",
       "      <th>review</th>\n",
       "    </tr>\n",
       "  </thead>\n",
       "  <tbody>\n",
       "    <tr>\n",
       "      <th>0</th>\n",
       "      <td>\"5814_8\"</td>\n",
       "      <td>1</td>\n",
       "      <td>\"With all this stuff going down at the moment ...</td>\n",
       "    </tr>\n",
       "    <tr>\n",
       "      <th>1</th>\n",
       "      <td>\"2381_9\"</td>\n",
       "      <td>1</td>\n",
       "      <td>\"\\\"The Classic War of the Worlds\\\" by Timothy ...</td>\n",
       "    </tr>\n",
       "    <tr>\n",
       "      <th>2</th>\n",
       "      <td>\"7759_3\"</td>\n",
       "      <td>0</td>\n",
       "      <td>\"The film starts with a manager (Nicholas Bell...</td>\n",
       "    </tr>\n",
       "    <tr>\n",
       "      <th>3</th>\n",
       "      <td>\"3630_4\"</td>\n",
       "      <td>0</td>\n",
       "      <td>\"It must be assumed that those who praised thi...</td>\n",
       "    </tr>\n",
       "    <tr>\n",
       "      <th>4</th>\n",
       "      <td>\"9495_8\"</td>\n",
       "      <td>1</td>\n",
       "      <td>\"Superbly trashy and wondrously unpretentious ...</td>\n",
       "    </tr>\n",
       "  </tbody>\n",
       "</table>\n",
       "</div>"
      ],
      "text/plain": [
       "         id  sentiment                                             review\n",
       "0  \"5814_8\"          1  \"With all this stuff going down at the moment ...\n",
       "1  \"2381_9\"          1  \"\\\"The Classic War of the Worlds\\\" by Timothy ...\n",
       "2  \"7759_3\"          0  \"The film starts with a manager (Nicholas Bell...\n",
       "3  \"3630_4\"          0  \"It must be assumed that those who praised thi...\n",
       "4  \"9495_8\"          1  \"Superbly trashy and wondrously unpretentious ..."
      ]
     },
     "execution_count": 3,
     "metadata": {},
     "output_type": "execute_result"
    }
   ],
   "source": [
    "dataset = pd.read_csv(namefile,\n",
    "                      header = 0,\n",
    "                      delimiter = \"\\t\",\n",
    "                      quoting = 3)\n",
    "dataset.head()"
   ]
  },
  {
   "cell_type": "code",
   "execution_count": 4,
   "metadata": {
    "collapsed": false
   },
   "outputs": [
    {
     "data": {
      "text/html": [
       "<div>\n",
       "<table border=\"1\" class=\"dataframe\">\n",
       "  <thead>\n",
       "    <tr style=\"text-align: right;\">\n",
       "      <th></th>\n",
       "      <th>id</th>\n",
       "      <th>sentiment</th>\n",
       "      <th>review</th>\n",
       "      <th>tokens</th>\n",
       "    </tr>\n",
       "  </thead>\n",
       "  <tbody>\n",
       "    <tr>\n",
       "      <th>0</th>\n",
       "      <td>\"5814_8\"</td>\n",
       "      <td>1</td>\n",
       "      <td>\"With all this stuff going down at the moment ...</td>\n",
       "      <td>stuff going moment MJ ive started listening mu...</td>\n",
       "    </tr>\n",
       "    <tr>\n",
       "      <th>1</th>\n",
       "      <td>\"2381_9\"</td>\n",
       "      <td>1</td>\n",
       "      <td>\"\\\"The Classic War of the Worlds\\\" by Timothy ...</td>\n",
       "      <td>Classic War Worlds Timothy Hines entertaining ...</td>\n",
       "    </tr>\n",
       "    <tr>\n",
       "      <th>2</th>\n",
       "      <td>\"7759_3\"</td>\n",
       "      <td>0</td>\n",
       "      <td>\"The film starts with a manager (Nicholas Bell...</td>\n",
       "      <td>film starts manager Nicholas Bell giving welco...</td>\n",
       "    </tr>\n",
       "    <tr>\n",
       "      <th>3</th>\n",
       "      <td>\"3630_4\"</td>\n",
       "      <td>0</td>\n",
       "      <td>\"It must be assumed that those who praised thi...</td>\n",
       "      <td>must assumed praised film greatest filmed oper...</td>\n",
       "    </tr>\n",
       "    <tr>\n",
       "      <th>4</th>\n",
       "      <td>\"9495_8\"</td>\n",
       "      <td>1</td>\n",
       "      <td>\"Superbly trashy and wondrously unpretentious ...</td>\n",
       "      <td>Superbly trashy wondrously unpretentious 80s e...</td>\n",
       "    </tr>\n",
       "  </tbody>\n",
       "</table>\n",
       "</div>"
      ],
      "text/plain": [
       "         id  sentiment                                             review  \\\n",
       "0  \"5814_8\"          1  \"With all this stuff going down at the moment ...   \n",
       "1  \"2381_9\"          1  \"\\\"The Classic War of the Worlds\\\" by Timothy ...   \n",
       "2  \"7759_3\"          0  \"The film starts with a manager (Nicholas Bell...   \n",
       "3  \"3630_4\"          0  \"It must be assumed that those who praised thi...   \n",
       "4  \"9495_8\"          1  \"Superbly trashy and wondrously unpretentious ...   \n",
       "\n",
       "                                              tokens  \n",
       "0  stuff going moment MJ ive started listening mu...  \n",
       "1  Classic War Worlds Timothy Hines entertaining ...  \n",
       "2  film starts manager Nicholas Bell giving welco...  \n",
       "3  must assumed praised film greatest filmed oper...  \n",
       "4  Superbly trashy wondrously unpretentious 80s e...  "
      ]
     },
     "execution_count": 4,
     "metadata": {},
     "output_type": "execute_result"
    }
   ],
   "source": [
    "# Preprocesamiento\n",
    "# Generanado Bag-of-Words\n",
    "dataset[\"tokens\"] = dataset.review.apply(preprocessing)\n",
    "\n",
    "dataset.head()"
   ]
  },
  {
   "cell_type": "code",
   "execution_count": 5,
   "metadata": {
    "collapsed": false
   },
   "outputs": [
    {
     "name": "stdout",
     "output_type": "stream",
     "text": [
      "1    12500\n",
      "0    12500\n",
      "Name: sentiment, dtype: int64\n",
      "\n",
      "\n",
      "1    9375\n",
      "0    9375\n",
      "Name: sentiment, dtype: int64\n",
      "\n",
      "\n",
      "1    3125\n",
      "0    3125\n",
      "Name: sentiment, dtype: int64\n"
     ]
    }
   ],
   "source": [
    "# Se puede observar que las clases son balanceadas\n",
    "print dataset.sentiment.value_counts()\n",
    "print \"\\n\"\n",
    "\n",
    "# Particionando dataset\n",
    "train, test = cross_validation.train_test_split(dataset, \n",
    "                                                stratify = dataset.sentiment)\n",
    "# 75% del dataset\n",
    "print train[\"sentiment\"].value_counts()\n",
    "print \"\\n\"\n",
    "\n",
    "# 25% del dataset\n",
    "print test[\"sentiment\"].value_counts()"
   ]
  },
  {
   "cell_type": "code",
   "execution_count": 6,
   "metadata": {
    "collapsed": false
   },
   "outputs": [],
   "source": [
    "# Generando modelo cv a partir de train\n",
    "cv = get_model(train.sentiment, \n",
    "               train.tokens,\n",
    "               CountVectorizer,\n",
    "               analyzer = \"word\",\n",
    "               tokenizer = None,\n",
    "               preprocessor = None,\n",
    "               stop_words = None,\n",
    "               max_features = 5000)\n",
    "\n",
    "cv[\"result\"] = cv[\"model\"].predict(cv[\"vector\"].transform(test.tokens))"
   ]
  },
  {
   "cell_type": "code",
   "execution_count": 7,
   "metadata": {
    "collapsed": false
   },
   "outputs": [],
   "source": [
    "# Generando modelo tfidf a partir de train\n",
    "tfidf = get_model(train.sentiment,\n",
    "                  train.tokens,\n",
    "                  TfidfVectorizer,\n",
    "                  analyzer = \"word\",\n",
    "                  tokenizer = None,\n",
    "                  min_df = 2,\n",
    "                  max_df = 0.95,\n",
    "                  max_features = 5000,\n",
    "                  sublinear_tf = True)\n",
    "\n",
    "tfidf[\"result\"] = tfidf[\"model\"].predict(tfidf[\"vector\"].transform(test.tokens))"
   ]
  },
  {
   "cell_type": "code",
   "execution_count": 8,
   "metadata": {
    "collapsed": false
   },
   "outputs": [
    {
     "name": "stdout",
     "output_type": "stream",
     "text": [
      "Count Vectorize - Accuracy Score: 0.84\n",
      "\n",
      "Count Vectorize - Others Metrics:\n",
      "              precision    recall  f1-score   support\n",
      "\n",
      "          0       0.83      0.85      0.84      3125\n",
      "          1       0.84      0.82      0.83      3125\n",
      "\n",
      "avg / total       0.84      0.84      0.84      6250\n",
      "\n",
      "\n"
     ]
    },
    {
     "data": {
      "image/png": "[encoded data removed]",
      "text/plain": [
       "<matplotlib.figure.Figure at 0x7fe651a5e690>"
      ]
     },
     "metadata": {},
     "output_type": "display_data"
    }
   ],
   "source": [
    "# Evaluando modelo cv\n",
    "# Confusion Matrix\n",
    "plot_confusion_matrix(metrics.confusion_matrix(test.sentiment, cv[\"result\"]), \n",
    "                     title = \"Count Vectorize - Confusion Matrix\")\n",
    "# Accuracy score\n",
    "print \"Count Vectorize - Accuracy Score: {:.2f}\\n\".format(metrics.accuracy_score(test.sentiment, cv[\"result\"]))\n",
    "\n",
    "# Others Metrics\n",
    "print \"Count Vectorize - Others Metrics:\\n {}\\n\".format(metrics.classification_report(test.sentiment, cv[\"result\"]))"
   ]
  },
  {
   "cell_type": "code",
   "execution_count": 9,
   "metadata": {
    "collapsed": false
   },
   "outputs": [
    {
     "name": "stdout",
     "output_type": "stream",
     "text": [
      "TFIDF - Accuracy Score: 0.84\n",
      "\n",
      "TFIDF Vectorize - Others Metrics:\n",
      "              precision    recall  f1-score   support\n",
      "\n",
      "          0       0.83      0.85      0.84      3125\n",
      "          1       0.85      0.83      0.84      3125\n",
      "\n",
      "avg / total       0.84      0.84      0.84      6250\n",
      "\n",
      "\n"
     ]
    },
    {
     "data": {
      "image/png": "[encoded data removed]",
      "text/plain": [
       "<matplotlib.figure.Figure at 0x7fe6524cf190>"
      ]
     },
     "metadata": {},
     "output_type": "display_data"
    }
   ],
   "source": [
    "# Evaluando modelo tfidf\n",
    "# Confusion Matrix\n",
    "plot_confusion_matrix(metrics.confusion_matrix(test.sentiment, tfidf[\"result\"]), \n",
    "                     title = \"TFIDF Vectorize - Confusion Matrix\")\n",
    "# Accuracy score\n",
    "print \"TFIDF - Accuracy Score: {:.2f}\\n\".format(metrics.accuracy_score(test.sentiment, tfidf[\"result\"]))\n",
    "\n",
    "# Others Metrics\n",
    "print \"TFIDF Vectorize - Others Metrics:\\n {}\\n\".format(metrics.classification_report(test.sentiment, tfidf[\"result\"]))"
   ]
  },
  {
   "cell_type": "code",
   "execution_count": null,
   "metadata": {
    "collapsed": true
   },
   "outputs": [],
   "source": []
  }
 ],
 "metadata": {
  "kernelspec": {
   "display_name": "Python 2",
   "language": "python",
   "name": "python2"
  },
  "language_info": {
   "codemirror_mode": {
    "name": "ipython",
    "version": 2
   },
   "file_extension": ".py",
   "mimetype": "text/x-python",
   "name": "python",
   "nbconvert_exporter": "python",
   "pygments_lexer": "ipython2",
   "version": "2.7.11"
  }
 },
 "nbformat": 4,
 "nbformat_minor": 0
}
